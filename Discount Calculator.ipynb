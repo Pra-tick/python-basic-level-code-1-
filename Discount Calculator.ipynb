{
 "cells": [
  {
   "cell_type": "markdown",
   "id": "3b1fe824-dc16-4000-aaac-3d61d6f5af7b",
   "metadata": {},
   "source": [
    "### Discount Calculator: Calculate the final price after applying a discount."
   ]
  },
  {
   "cell_type": "code",
   "execution_count": 1,
   "id": "a03a377c-dda7-47d2-8a1a-54c2a25ce83b",
   "metadata": {},
   "outputs": [
    {
     "name": "stdin",
     "output_type": "stream",
     "text": [
      "Enter the acatual prize: 1230\n",
      "Enter the discount%: 25\n"
     ]
    },
    {
     "name": "stdout",
     "output_type": "stream",
     "text": [
      "Discount amount: 307.5\n",
      "Discounted price: 922.5\n"
     ]
    }
   ],
   "source": [
    "#discount formula = (dis%/100)*actual amount\n",
    "\n",
    "#take input from user\n",
    "amt=int(input(\"Enter the acatual prize:\"))\n",
    "dis=int(input(\"Enter the discount%:\"))\n",
    "\n",
    "#operation\n",
    "dis_amt=(dis/100)*amt\n",
    "new_price=amt-dis_amt\n",
    "\n",
    "print(\"Discount amount:\", dis_amt)\n",
    "print(\"Discounted price:\",new_price)"
   ]
  },
  {
   "cell_type": "code",
   "execution_count": null,
   "id": "14ada5dd-8a6d-4ce5-9190-6d09ecff952f",
   "metadata": {},
   "outputs": [],
   "source": []
  }
 ],
 "metadata": {
  "kernelspec": {
   "display_name": "Python 3 (ipykernel)",
   "language": "python",
   "name": "python3"
  },
  "language_info": {
   "codemirror_mode": {
    "name": "ipython",
    "version": 3
   },
   "file_extension": ".py",
   "mimetype": "text/x-python",
   "name": "python",
   "nbconvert_exporter": "python",
   "pygments_lexer": "ipython3",
   "version": "3.11.7"
  }
 },
 "nbformat": 4,
 "nbformat_minor": 5
}
