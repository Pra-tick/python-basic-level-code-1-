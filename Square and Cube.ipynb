{
 "cells": [
  {
   "cell_type": "markdown",
   "id": "84168899-75cb-4e4c-97cc-4f21d5af901c",
   "metadata": {},
   "source": [
    "### Square and Cube: Calculate the square and cube of a given number"
   ]
  },
  {
   "cell_type": "code",
   "execution_count": 1,
   "id": "8e712ae0-2052-47f2-bc0c-1c68afac59f9",
   "metadata": {},
   "outputs": [
    {
     "name": "stdin",
     "output_type": "stream",
     "text": [
      "Enter the number: 2\n"
     ]
    },
    {
     "name": "stdout",
     "output_type": "stream",
     "text": [
      "Square of number= 4\n",
      "Cube of number= 8\n"
     ]
    }
   ],
   "source": [
    "#recieve number from the user\n",
    "num=int(input(\"Enter the number:\"))\n",
    "\n",
    "#operation\n",
    "sqr=num**2\n",
    "cub=num**3\n",
    "\n",
    "print(\"Square of number=\",sqr)\n",
    "print(\"Cube of number=\",cub)"
   ]
  },
  {
   "cell_type": "code",
   "execution_count": null,
   "id": "de19f4ab-eef6-43f5-b21d-0d93e28661ac",
   "metadata": {},
   "outputs": [],
   "source": []
  }
 ],
 "metadata": {
  "kernelspec": {
   "display_name": "Python 3 (ipykernel)",
   "language": "python",
   "name": "python3"
  },
  "language_info": {
   "codemirror_mode": {
    "name": "ipython",
    "version": 3
   },
   "file_extension": ".py",
   "mimetype": "text/x-python",
   "name": "python",
   "nbconvert_exporter": "python",
   "pygments_lexer": "ipython3",
   "version": "3.11.7"
  }
 },
 "nbformat": 4,
 "nbformat_minor": 5
}
