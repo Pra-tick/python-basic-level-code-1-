{
 "cells": [
  {
   "cell_type": "markdown",
   "id": "ffbcf5f4-9ab2-429b-b40c-5eb093b0025b",
   "metadata": {},
   "source": [
    "### Power Calculator: Calculate the power of a number using exponentiation."
   ]
  },
  {
   "cell_type": "code",
   "execution_count": 2,
   "id": "c0a8ec12-e306-42a6-9fee-2632a9825338",
   "metadata": {},
   "outputs": [
    {
     "name": "stdin",
     "output_type": "stream",
     "text": [
      "Enter the base: 3\n",
      "Enter the exponent: 2\n"
     ]
    },
    {
     "name": "stdout",
     "output_type": "stream",
     "text": [
      "Answer= 9\n"
     ]
    }
   ],
   "source": [
    "#finding out the power of number \n",
    "\n",
    "#take input from user\n",
    "bas=int(input(\"Enter the base:\"))\n",
    "exp=int(input(\"Enter the exponent:\"))\n",
    "\n",
    "#operation\n",
    "ans=bas**exp\n",
    "\n",
    "print(\"Answer=\",ans)"
   ]
  },
  {
   "cell_type": "code",
   "execution_count": null,
   "id": "98810eb8-a67d-4071-97cb-0b3c2b66f566",
   "metadata": {},
   "outputs": [],
   "source": []
  }
 ],
 "metadata": {
  "kernelspec": {
   "display_name": "Python 3 (ipykernel)",
   "language": "python",
   "name": "python3"
  },
  "language_info": {
   "codemirror_mode": {
    "name": "ipython",
    "version": 3
   },
   "file_extension": ".py",
   "mimetype": "text/x-python",
   "name": "python",
   "nbconvert_exporter": "python",
   "pygments_lexer": "ipython3",
   "version": "3.11.7"
  }
 },
 "nbformat": 4,
 "nbformat_minor": 5
}
