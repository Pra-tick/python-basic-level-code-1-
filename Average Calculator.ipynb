{
 "cells": [
  {
   "cell_type": "markdown",
   "id": "e45359d1-415a-4a9f-aebb-c398fd3205c1",
   "metadata": {},
   "source": [
    "### Average Calculator: Calculate the average of numbers"
   ]
  },
  {
   "cell_type": "code",
   "execution_count": 1,
   "id": "7397ebeb-82fa-41ff-a719-a73092054566",
   "metadata": {},
   "outputs": [
    {
     "name": "stdin",
     "output_type": "stream",
     "text": [
      "enter the number: 2\n",
      "enter the number: 3\n",
      "enter the number: 4\n"
     ]
    },
    {
     "name": "stdout",
     "output_type": "stream",
     "text": [
      "Average of three numbers is = 3.0\n"
     ]
    }
   ],
   "source": [
    "#Get the number from the user\n",
    "a=int(input(\"enter the number:\"))\n",
    "b=int(input(\"enter the number:\"))\n",
    "c=int(input(\"enter the number:\"))\n",
    "\n",
    "#operation\n",
    "average=(a+b+c)/3\n",
    "\n",
    "print(\"Average of three numbers is =\",average)"
   ]
  },
  {
   "cell_type": "code",
   "execution_count": null,
   "id": "b13b6bbc-3e26-4547-aa10-48f29801afaa",
   "metadata": {},
   "outputs": [],
   "source": []
  }
 ],
 "metadata": {
  "kernelspec": {
   "display_name": "Python 3 (ipykernel)",
   "language": "python",
   "name": "python3"
  },
  "language_info": {
   "codemirror_mode": {
    "name": "ipython",
    "version": 3
   },
   "file_extension": ".py",
   "mimetype": "text/x-python",
   "name": "python",
   "nbconvert_exporter": "python",
   "pygments_lexer": "ipython3",
   "version": "3.11.7"
  }
 },
 "nbformat": 4,
 "nbformat_minor": 5
}
