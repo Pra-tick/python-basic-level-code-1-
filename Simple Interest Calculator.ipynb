{
 "cells": [
  {
   "cell_type": "markdown",
   "id": "ca6b561b-e08b-43e1-a6c8-1141ff616b4e",
   "metadata": {},
   "source": [
    "### Simple Interest Calculator: Compute the simple interest based on principal, rate, and time."
   ]
  },
  {
   "cell_type": "code",
   "execution_count": 3,
   "id": "b4053d92-4655-40b4-8cff-adc4e71ae24b",
   "metadata": {},
   "outputs": [
    {
     "name": "stdin",
     "output_type": "stream",
     "text": [
      "Enter the amount: 1000\n",
      "Enter the interest rate: 10\n",
      "Enter the time period: 2\n"
     ]
    },
    {
     "name": "stdout",
     "output_type": "stream",
     "text": [
      "Simple interest is = 200.0\n",
      "Total amount to be paid with interest= 1200.0\n"
     ]
    }
   ],
   "source": [
    "# formula of simple interest\n",
    "# Simple Interest (S.I.) = (Principal × Rate × Time) / 100 \n",
    "\n",
    "#get the inputs fom the user\n",
    "prin=int(input(\"Enter the amount:\"))\n",
    "rate=int(input(\"Enter the interest rate:\"))\n",
    "time=int(input(\"Enter the time period:\"))\n",
    "\n",
    "#operation\n",
    "si=(prin*rate*time)/100\n",
    "amt=prin+si\n",
    "\n",
    "print(\"Simple interest is =\",si)\n",
    "print(\"Total amount to be paid with interest=\",amt)"
   ]
  },
  {
   "cell_type": "code",
   "execution_count": null,
   "id": "b640eb9d-bf70-4aed-ba43-06cd6d661473",
   "metadata": {},
   "outputs": [],
   "source": []
  }
 ],
 "metadata": {
  "kernelspec": {
   "display_name": "Python 3 (ipykernel)",
   "language": "python",
   "name": "python3"
  },
  "language_info": {
   "codemirror_mode": {
    "name": "ipython",
    "version": 3
   },
   "file_extension": ".py",
   "mimetype": "text/x-python",
   "name": "python",
   "nbconvert_exporter": "python",
   "pygments_lexer": "ipython3",
   "version": "3.11.7"
  }
 },
 "nbformat": 4,
 "nbformat_minor": 5
}
