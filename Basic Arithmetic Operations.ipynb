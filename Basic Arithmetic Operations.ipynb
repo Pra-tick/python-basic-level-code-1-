{
 "cells": [
  {
   "cell_type": "markdown",
   "id": "7a23c9a7-03db-40c6-b4cd-b7965b4ce1ee",
   "metadata": {},
   "source": [
    "### Basic Arithmetic Operations: Write a program that performs addition, subtraction, \n",
    "multiplication, and division of two numbers."
   ]
  },
  {
   "cell_type": "code",
   "execution_count": 1,
   "id": "78f592cc-90f3-4ecd-9720-447260b8e7eb",
   "metadata": {},
   "outputs": [
    {
     "name": "stdin",
     "output_type": "stream",
     "text": [
      "Enter the first number: 4\n",
      "Enter the second number: 2\n"
     ]
    },
    {
     "name": "stdout",
     "output_type": "stream",
     "text": [
      "Addition= 6\n",
      "Subtraction= 2\n",
      "Multiplication= 8\n",
      "Divison= 2.0\n"
     ]
    }
   ],
   "source": [
    "#Get output of the numbers from users \n",
    "num1=int(input(\"Enter the first number:\"))\n",
    "num2=int(input(\"Enter the second number:\"))\n",
    "\n",
    "#wrote down the operations to be perform\n",
    "add=num1+num2\n",
    "sub=num1-num2\n",
    "mult=num1*num2\n",
    "div=num1/num2\n",
    "\n",
    "#print the answers\n",
    "print(\"Addition=\",add)\n",
    "print(\"Subtraction=\",sub)\n",
    "print(\"Multiplication=\",mult)\n",
    "print(\"Divison=\",div)\n"
   ]
  },
  {
   "cell_type": "code",
   "execution_count": null,
   "id": "c1108192-db32-4236-8488-c043d3616715",
   "metadata": {},
   "outputs": [],
   "source": []
  }
 ],
 "metadata": {
  "kernelspec": {
   "display_name": "Python 3 (ipykernel)",
   "language": "python",
   "name": "python3"
  },
  "language_info": {
   "codemirror_mode": {
    "name": "ipython",
    "version": 3
   },
   "file_extension": ".py",
   "mimetype": "text/x-python",
   "name": "python",
   "nbconvert_exporter": "python",
   "pygments_lexer": "ipython3",
   "version": "3.11.7"
  }
 },
 "nbformat": 4,
 "nbformat_minor": 5
}
