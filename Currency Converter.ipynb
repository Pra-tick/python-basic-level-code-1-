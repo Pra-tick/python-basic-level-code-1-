{
 "cells": [
  {
   "cell_type": "markdown",
   "id": "06319ea3-ac23-45d7-9c12-5b9b13b0b263",
   "metadata": {},
   "source": [
    "### Currency Converter: Convert an amount from Indian currency to euros and dollars"
   ]
  },
  {
   "cell_type": "code",
   "execution_count": 1,
   "id": "8d05f59a-e8e1-4d35-a6dd-c75816f00b33",
   "metadata": {},
   "outputs": [
    {
     "name": "stdin",
     "output_type": "stream",
     "text": [
      "Enter the  Indian amount: 2300\n"
     ]
    },
    {
     "name": "stdout",
     "output_type": "stream",
     "text": [
      "Rupees: 2300\n",
      "Euros: 25.555555555555557\n",
      "Dollars: 27.710843373493976\n"
     ]
    }
   ],
   "source": [
    "#current rates of euro and dollar\n",
    "# 1 euro =90rs\n",
    "# 1 dollar = 83rs\n",
    "\n",
    "#take a amount from user\n",
    "amt=int(input(\"Enter the  Indian amount:\"))\n",
    "\n",
    "#opeartion\n",
    "eur=amt/90\n",
    "dlr=amt/83\n",
    "\n",
    "print(\"Rupees:\",amt)\n",
    "print(\"Euros:\",eur)\n",
    "print(\"Dollars:\",dlr)\n"
   ]
  },
  {
   "cell_type": "code",
   "execution_count": null,
   "id": "74b681c1-d9a7-4a30-9f43-14871e440f8f",
   "metadata": {},
   "outputs": [],
   "source": []
  }
 ],
 "metadata": {
  "kernelspec": {
   "display_name": "Python 3 (ipykernel)",
   "language": "python",
   "name": "python3"
  },
  "language_info": {
   "codemirror_mode": {
    "name": "ipython",
    "version": 3
   },
   "file_extension": ".py",
   "mimetype": "text/x-python",
   "name": "python",
   "nbconvert_exporter": "python",
   "pygments_lexer": "ipython3",
   "version": "3.11.7"
  }
 },
 "nbformat": 4,
 "nbformat_minor": 5
}
