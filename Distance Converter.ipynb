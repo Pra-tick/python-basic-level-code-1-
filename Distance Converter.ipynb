{
 "cells": [
  {
   "cell_type": "markdown",
   "id": "b9173180-921c-4ba6-969c-a18360c3c837",
   "metadata": {},
   "source": [
    "### Distance Converter: Convert distance from kilometers to miles."
   ]
  },
  {
   "cell_type": "code",
   "execution_count": 2,
   "id": "7917ebf6-75de-480e-ab57-26baa911928d",
   "metadata": {},
   "outputs": [
    {
     "name": "stdin",
     "output_type": "stream",
     "text": [
      "Enter the Kilometer: 264\n"
     ]
    },
    {
     "name": "stdout",
     "output_type": "stream",
     "text": [
      "Kilometer in miles = 163.68\n"
     ]
    }
   ],
   "source": [
    "# 1km = 0.62 mile\n",
    "\n",
    "#take input from user\n",
    "km=int(input(\"Enter the Kilometer:\"))\n",
    "\n",
    "#operation\n",
    "mil=km*0.62\n",
    "\n",
    "print(\"Kilometer in miles =\",mil)"
   ]
  },
  {
   "cell_type": "code",
   "execution_count": null,
   "id": "2493037f-8f14-4295-9019-162c0a1983ee",
   "metadata": {},
   "outputs": [],
   "source": []
  }
 ],
 "metadata": {
  "kernelspec": {
   "display_name": "Python 3 (ipykernel)",
   "language": "python",
   "name": "python3"
  },
  "language_info": {
   "codemirror_mode": {
    "name": "ipython",
    "version": 3
   },
   "file_extension": ".py",
   "mimetype": "text/x-python",
   "name": "python",
   "nbconvert_exporter": "python",
   "pygments_lexer": "ipython3",
   "version": "3.11.7"
  }
 },
 "nbformat": 4,
 "nbformat_minor": 5
}
