{
 "cells": [
  {
   "cell_type": "markdown",
   "id": "eb886ca2-a3a8-42f0-9e72-6199fea700fa",
   "metadata": {},
   "source": [
    "### Body Mass Index (BMI) Calculator: Calculate BMI using weight and height"
   ]
  },
  {
   "cell_type": "code",
   "execution_count": 1,
   "id": "1e9727c4-4567-4eb3-ab4d-ecaa84b09c59",
   "metadata": {},
   "outputs": [
    {
     "name": "stdin",
     "output_type": "stream",
     "text": [
      "Enter height: 170\n",
      "Enter weight: 60\n"
     ]
    },
    {
     "name": "stdout",
     "output_type": "stream",
     "text": [
      "Body mass index = 20.761245674740486\n"
     ]
    }
   ],
   "source": [
    "# BMI (Body Mass Index) is a simple calculation using a person's height and weight\n",
    "\n",
    "hei=int(input(\"Enter height:\"))\n",
    "wei=int(input(\"Enter weight:\"))\n",
    "\n",
    "#operation\n",
    "#convert height into meter and then its square \n",
    "hei2=(hei/100)**2\n",
    "\n",
    "#BMI formula\n",
    "bmi=wei/hei2\n",
    "\n",
    "print(\"Body mass index =\",bmi)"
   ]
  },
  {
   "cell_type": "code",
   "execution_count": null,
   "id": "ddae6ea9-319e-4597-9148-2c9836bf28a7",
   "metadata": {},
   "outputs": [],
   "source": []
  }
 ],
 "metadata": {
  "kernelspec": {
   "display_name": "Python 3 (ipykernel)",
   "language": "python",
   "name": "python3"
  },
  "language_info": {
   "codemirror_mode": {
    "name": "ipython",
    "version": 3
   },
   "file_extension": ".py",
   "mimetype": "text/x-python",
   "name": "python",
   "nbconvert_exporter": "python",
   "pygments_lexer": "ipython3",
   "version": "3.11.7"
  }
 },
 "nbformat": 4,
 "nbformat_minor": 5
}
