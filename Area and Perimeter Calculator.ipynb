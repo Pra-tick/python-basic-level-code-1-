{
 "cells": [
  {
   "cell_type": "markdown",
   "id": "54468d4e-8fc4-46ac-8568-7e15f94dfd45",
   "metadata": {},
   "source": [
    "### Area and Perimeter Calculator: Calculate the area and perimeter of a rectangle."
   ]
  },
  {
   "cell_type": "code",
   "execution_count": 3,
   "id": "e68657b0-3f0c-4384-b63f-681ff7d15ec4",
   "metadata": {},
   "outputs": [
    {
     "name": "stdin",
     "output_type": "stream",
     "text": [
      "Enter the Length: 4\n",
      "Enter the Breadth: 2\n"
     ]
    },
    {
     "name": "stdout",
     "output_type": "stream",
     "text": [
      "Area = 8\n",
      "Perimeter= 12\n"
     ]
    }
   ],
   "source": [
    "#area=length*breadth\n",
    "#perimeter28(length+breadth)\n",
    "\n",
    "#take input from user\n",
    "len=int(input(\"Enter the Length:\"))\n",
    "bre=int(input(\"Enter the Breadth:\"))\n",
    "\n",
    "#area\n",
    "A=len*bre\n",
    "\n",
    "#perimeter\n",
    "P=2*(len+bre)\n",
    "\n",
    "print(\"Area =\",A)\n",
    "print(\"Perimeter=\", P)"
   ]
  },
  {
   "cell_type": "code",
   "execution_count": null,
   "id": "c663f90d-c122-4b96-be44-dcdd4c25c6ed",
   "metadata": {},
   "outputs": [],
   "source": []
  }
 ],
 "metadata": {
  "kernelspec": {
   "display_name": "Python 3 (ipykernel)",
   "language": "python",
   "name": "python3"
  },
  "language_info": {
   "codemirror_mode": {
    "name": "ipython",
    "version": 3
   },
   "file_extension": ".py",
   "mimetype": "text/x-python",
   "name": "python",
   "nbconvert_exporter": "python",
   "pygments_lexer": "ipython3",
   "version": "3.11.7"
  }
 },
 "nbformat": 4,
 "nbformat_minor": 5
}
